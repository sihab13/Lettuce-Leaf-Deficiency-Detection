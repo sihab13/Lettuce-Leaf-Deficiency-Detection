{
  "cells": [
    {
      "cell_type": "code",
      "execution_count": null,
      "metadata": {
        "colab": {
          "base_uri": "https://localhost:8080/"
        },
        "id": "pC3_-Ph9z2vP",
        "outputId": "ffd87963-1732-4e15-f4ff-1b5f44fe3c49"
      },
      "outputs": [
        {
          "output_type": "stream",
          "name": "stdout",
          "text": [
            "Mounted at /content/drive\n"
          ]
        }
      ],
      "source": [
        "from google.colab import drive\n",
        "drive.mount('/content/drive')"
      ]
    },
    {
      "cell_type": "code",
      "source": [
        "!pip install -q kaggle"
      ],
      "metadata": {
        "id": "qqD9Qwxw5yaZ"
      },
      "execution_count": null,
      "outputs": []
    },
    {
      "cell_type": "code",
      "source": [
        "from google.colab import files\n",
        "files.upload()"
      ],
      "metadata": {
        "colab": {
          "base_uri": "https://localhost:8080/",
          "height": 90
        },
        "id": "geDRH0t550lD",
        "outputId": "a9939997-d92a-4ad0-8101-246595e94439"
      },
      "execution_count": null,
      "outputs": [
        {
          "output_type": "display_data",
          "data": {
            "text/plain": [
              "<IPython.core.display.HTML object>"
            ],
            "text/html": [
              "\n",
              "     <input type=\"file\" id=\"files-dc37075a-e508-4151-81cf-984c8a0289db\" name=\"files[]\" multiple disabled\n",
              "        style=\"border:none\" />\n",
              "     <output id=\"result-dc37075a-e508-4151-81cf-984c8a0289db\">\n",
              "      Upload widget is only available when the cell has been executed in the\n",
              "      current browser session. Please rerun this cell to enable.\n",
              "      </output>\n",
              "      <script>// Copyright 2017 Google LLC\n",
              "//\n",
              "// Licensed under the Apache License, Version 2.0 (the \"License\");\n",
              "// you may not use this file except in compliance with the License.\n",
              "// You may obtain a copy of the License at\n",
              "//\n",
              "//      http://www.apache.org/licenses/LICENSE-2.0\n",
              "//\n",
              "// Unless required by applicable law or agreed to in writing, software\n",
              "// distributed under the License is distributed on an \"AS IS\" BASIS,\n",
              "// WITHOUT WARRANTIES OR CONDITIONS OF ANY KIND, either express or implied.\n",
              "// See the License for the specific language governing permissions and\n",
              "// limitations under the License.\n",
              "\n",
              "/**\n",
              " * @fileoverview Helpers for google.colab Python module.\n",
              " */\n",
              "(function(scope) {\n",
              "function span(text, styleAttributes = {}) {\n",
              "  const element = document.createElement('span');\n",
              "  element.textContent = text;\n",
              "  for (const key of Object.keys(styleAttributes)) {\n",
              "    element.style[key] = styleAttributes[key];\n",
              "  }\n",
              "  return element;\n",
              "}\n",
              "\n",
              "// Max number of bytes which will be uploaded at a time.\n",
              "const MAX_PAYLOAD_SIZE = 100 * 1024;\n",
              "\n",
              "function _uploadFiles(inputId, outputId) {\n",
              "  const steps = uploadFilesStep(inputId, outputId);\n",
              "  const outputElement = document.getElementById(outputId);\n",
              "  // Cache steps on the outputElement to make it available for the next call\n",
              "  // to uploadFilesContinue from Python.\n",
              "  outputElement.steps = steps;\n",
              "\n",
              "  return _uploadFilesContinue(outputId);\n",
              "}\n",
              "\n",
              "// This is roughly an async generator (not supported in the browser yet),\n",
              "// where there are multiple asynchronous steps and the Python side is going\n",
              "// to poll for completion of each step.\n",
              "// This uses a Promise to block the python side on completion of each step,\n",
              "// then passes the result of the previous step as the input to the next step.\n",
              "function _uploadFilesContinue(outputId) {\n",
              "  const outputElement = document.getElementById(outputId);\n",
              "  const steps = outputElement.steps;\n",
              "\n",
              "  const next = steps.next(outputElement.lastPromiseValue);\n",
              "  return Promise.resolve(next.value.promise).then((value) => {\n",
              "    // Cache the last promise value to make it available to the next\n",
              "    // step of the generator.\n",
              "    outputElement.lastPromiseValue = value;\n",
              "    return next.value.response;\n",
              "  });\n",
              "}\n",
              "\n",
              "/**\n",
              " * Generator function which is called between each async step of the upload\n",
              " * process.\n",
              " * @param {string} inputId Element ID of the input file picker element.\n",
              " * @param {string} outputId Element ID of the output display.\n",
              " * @return {!Iterable<!Object>} Iterable of next steps.\n",
              " */\n",
              "function* uploadFilesStep(inputId, outputId) {\n",
              "  const inputElement = document.getElementById(inputId);\n",
              "  inputElement.disabled = false;\n",
              "\n",
              "  const outputElement = document.getElementById(outputId);\n",
              "  outputElement.innerHTML = '';\n",
              "\n",
              "  const pickedPromise = new Promise((resolve) => {\n",
              "    inputElement.addEventListener('change', (e) => {\n",
              "      resolve(e.target.files);\n",
              "    });\n",
              "  });\n",
              "\n",
              "  const cancel = document.createElement('button');\n",
              "  inputElement.parentElement.appendChild(cancel);\n",
              "  cancel.textContent = 'Cancel upload';\n",
              "  const cancelPromise = new Promise((resolve) => {\n",
              "    cancel.onclick = () => {\n",
              "      resolve(null);\n",
              "    };\n",
              "  });\n",
              "\n",
              "  // Wait for the user to pick the files.\n",
              "  const files = yield {\n",
              "    promise: Promise.race([pickedPromise, cancelPromise]),\n",
              "    response: {\n",
              "      action: 'starting',\n",
              "    }\n",
              "  };\n",
              "\n",
              "  cancel.remove();\n",
              "\n",
              "  // Disable the input element since further picks are not allowed.\n",
              "  inputElement.disabled = true;\n",
              "\n",
              "  if (!files) {\n",
              "    return {\n",
              "      response: {\n",
              "        action: 'complete',\n",
              "      }\n",
              "    };\n",
              "  }\n",
              "\n",
              "  for (const file of files) {\n",
              "    const li = document.createElement('li');\n",
              "    li.append(span(file.name, {fontWeight: 'bold'}));\n",
              "    li.append(span(\n",
              "        `(${file.type || 'n/a'}) - ${file.size} bytes, ` +\n",
              "        `last modified: ${\n",
              "            file.lastModifiedDate ? file.lastModifiedDate.toLocaleDateString() :\n",
              "                                    'n/a'} - `));\n",
              "    const percent = span('0% done');\n",
              "    li.appendChild(percent);\n",
              "\n",
              "    outputElement.appendChild(li);\n",
              "\n",
              "    const fileDataPromise = new Promise((resolve) => {\n",
              "      const reader = new FileReader();\n",
              "      reader.onload = (e) => {\n",
              "        resolve(e.target.result);\n",
              "      };\n",
              "      reader.readAsArrayBuffer(file);\n",
              "    });\n",
              "    // Wait for the data to be ready.\n",
              "    let fileData = yield {\n",
              "      promise: fileDataPromise,\n",
              "      response: {\n",
              "        action: 'continue',\n",
              "      }\n",
              "    };\n",
              "\n",
              "    // Use a chunked sending to avoid message size limits. See b/62115660.\n",
              "    let position = 0;\n",
              "    do {\n",
              "      const length = Math.min(fileData.byteLength - position, MAX_PAYLOAD_SIZE);\n",
              "      const chunk = new Uint8Array(fileData, position, length);\n",
              "      position += length;\n",
              "\n",
              "      const base64 = btoa(String.fromCharCode.apply(null, chunk));\n",
              "      yield {\n",
              "        response: {\n",
              "          action: 'append',\n",
              "          file: file.name,\n",
              "          data: base64,\n",
              "        },\n",
              "      };\n",
              "\n",
              "      let percentDone = fileData.byteLength === 0 ?\n",
              "          100 :\n",
              "          Math.round((position / fileData.byteLength) * 100);\n",
              "      percent.textContent = `${percentDone}% done`;\n",
              "\n",
              "    } while (position < fileData.byteLength);\n",
              "  }\n",
              "\n",
              "  // All done.\n",
              "  yield {\n",
              "    response: {\n",
              "      action: 'complete',\n",
              "    }\n",
              "  };\n",
              "}\n",
              "\n",
              "scope.google = scope.google || {};\n",
              "scope.google.colab = scope.google.colab || {};\n",
              "scope.google.colab._files = {\n",
              "  _uploadFiles,\n",
              "  _uploadFilesContinue,\n",
              "};\n",
              "})(self);\n",
              "</script> "
            ]
          },
          "metadata": {}
        },
        {
          "output_type": "stream",
          "name": "stdout",
          "text": [
            "Saving kaggle.json to kaggle.json\n"
          ]
        },
        {
          "output_type": "execute_result",
          "data": {
            "text/plain": [
              "{'kaggle.json': b'{\"username\":\"sihabmahmud\",\"key\":\"e03f8af0c763c57aeb743ca3766dd5b4\"}'}"
            ]
          },
          "metadata": {},
          "execution_count": 3
        }
      ]
    },
    {
      "cell_type": "code",
      "source": [
        "!mkdir -p ~/.kaggle\n",
        "!cp kaggle.json ~/.kaggle"
      ],
      "metadata": {
        "id": "_k5a_E2N52zy"
      },
      "execution_count": null,
      "outputs": []
    },
    {
      "cell_type": "code",
      "source": [
        "!kaggle datasets download -d baronn/lettuce-npk-dataset"
      ],
      "metadata": {
        "colab": {
          "base_uri": "https://localhost:8080/"
        },
        "id": "fiXr7DZg55VK",
        "outputId": "71fc6986-8ac2-45cf-9f91-27b5e1fad57d"
      },
      "execution_count": null,
      "outputs": [
        {
          "output_type": "stream",
          "name": "stdout",
          "text": [
            "Warning: Your Kaggle API key is readable by other users on this system! To fix this, you can run 'chmod 600 /root/.kaggle/kaggle.json'\n",
            "Downloading lettuce-npk-dataset.zip to /content\n",
            " 96% 323M/337M [00:03<00:00, 151MB/s]\n",
            "100% 337M/337M [00:03<00:00, 110MB/s]\n"
          ]
        }
      ]
    },
    {
      "cell_type": "code",
      "source": [
        "!unzip lettuce-npk-dataset.zip"
      ],
      "metadata": {
        "colab": {
          "base_uri": "https://localhost:8080/"
        },
        "id": "4W9PTzb5570i",
        "outputId": "5b4d03f3-01ff-4643-e01e-dc5496802f75"
      },
      "execution_count": null,
      "outputs": [
        {
          "output_type": "stream",
          "name": "stdout",
          "text": [
            "Archive:  lettuce-npk-dataset.zip\n",
            "  inflating: FNNPK/-K/k_1.png        \n",
            "  inflating: FNNPK/-K/k_10.png       \n",
            "  inflating: FNNPK/-K/k_11.png       \n",
            "  inflating: FNNPK/-K/k_12.png       \n",
            "  inflating: FNNPK/-K/k_13.png       \n",
            "  inflating: FNNPK/-K/k_14.png       \n",
            "  inflating: FNNPK/-K/k_15.png       \n",
            "  inflating: FNNPK/-K/k_16.png       \n",
            "  inflating: FNNPK/-K/k_17.png       \n",
            "  inflating: FNNPK/-K/k_18.png       \n",
            "  inflating: FNNPK/-K/k_19.png       \n",
            "  inflating: FNNPK/-K/k_2.png        \n",
            "  inflating: FNNPK/-K/k_20.png       \n",
            "  inflating: FNNPK/-K/k_21.png       \n",
            "  inflating: FNNPK/-K/k_22.png       \n",
            "  inflating: FNNPK/-K/k_23.png       \n",
            "  inflating: FNNPK/-K/k_24.png       \n",
            "  inflating: FNNPK/-K/k_25.png       \n",
            "  inflating: FNNPK/-K/k_26.png       \n",
            "  inflating: FNNPK/-K/k_27.png       \n",
            "  inflating: FNNPK/-K/k_28.png       \n",
            "  inflating: FNNPK/-K/k_29.png       \n",
            "  inflating: FNNPK/-K/k_3.png        \n",
            "  inflating: FNNPK/-K/k_30.png       \n",
            "  inflating: FNNPK/-K/k_31.png       \n",
            "  inflating: FNNPK/-K/k_32.png       \n",
            "  inflating: FNNPK/-K/k_33.png       \n",
            "  inflating: FNNPK/-K/k_34.png       \n",
            "  inflating: FNNPK/-K/k_35.png       \n",
            "  inflating: FNNPK/-K/k_36.png       \n",
            "  inflating: FNNPK/-K/k_37.png       \n",
            "  inflating: FNNPK/-K/k_38.png       \n",
            "  inflating: FNNPK/-K/k_39.png       \n",
            "  inflating: FNNPK/-K/k_4.png        \n",
            "  inflating: FNNPK/-K/k_40.png       \n",
            "  inflating: FNNPK/-K/k_41.png       \n",
            "  inflating: FNNPK/-K/k_42.png       \n",
            "  inflating: FNNPK/-K/k_43.png       \n",
            "  inflating: FNNPK/-K/k_44.png       \n",
            "  inflating: FNNPK/-K/k_45.png       \n",
            "  inflating: FNNPK/-K/k_46.png       \n",
            "  inflating: FNNPK/-K/k_47.png       \n",
            "  inflating: FNNPK/-K/k_48.png       \n",
            "  inflating: FNNPK/-K/k_49.png       \n",
            "  inflating: FNNPK/-K/k_5.png        \n",
            "  inflating: FNNPK/-K/k_50.png       \n",
            "  inflating: FNNPK/-K/k_51.png       \n",
            "  inflating: FNNPK/-K/k_52.png       \n",
            "  inflating: FNNPK/-K/k_53.png       \n",
            "  inflating: FNNPK/-K/k_54.png       \n",
            "  inflating: FNNPK/-K/k_55.png       \n",
            "  inflating: FNNPK/-K/k_56.png       \n",
            "  inflating: FNNPK/-K/k_57.png       \n",
            "  inflating: FNNPK/-K/k_58.png       \n",
            "  inflating: FNNPK/-K/k_59.png       \n",
            "  inflating: FNNPK/-K/k_6.png        \n",
            "  inflating: FNNPK/-K/k_60.png       \n",
            "  inflating: FNNPK/-K/k_61.png       \n",
            "  inflating: FNNPK/-K/k_62.png       \n",
            "  inflating: FNNPK/-K/k_63.png       \n",
            "  inflating: FNNPK/-K/k_64.png       \n",
            "  inflating: FNNPK/-K/k_65.png       \n",
            "  inflating: FNNPK/-K/k_66.png       \n",
            "  inflating: FNNPK/-K/k_67.png       \n",
            "  inflating: FNNPK/-K/k_68.png       \n",
            "  inflating: FNNPK/-K/k_69.png       \n",
            "  inflating: FNNPK/-K/k_7.png        \n",
            "  inflating: FNNPK/-K/k_70.png       \n",
            "  inflating: FNNPK/-K/k_71.png       \n",
            "  inflating: FNNPK/-K/k_72.png       \n",
            "  inflating: FNNPK/-K/k_8.png        \n",
            "  inflating: FNNPK/-K/k_9.png        \n",
            "  inflating: FNNPK/-N/n_1.png        \n",
            "  inflating: FNNPK/-N/n_10.png       \n",
            "  inflating: FNNPK/-N/n_11.png       \n",
            "  inflating: FNNPK/-N/n_12.png       \n",
            "  inflating: FNNPK/-N/n_13.png       \n",
            "  inflating: FNNPK/-N/n_14.png       \n",
            "  inflating: FNNPK/-N/n_15.png       \n",
            "  inflating: FNNPK/-N/n_16.png       \n",
            "  inflating: FNNPK/-N/n_17.png       \n",
            "  inflating: FNNPK/-N/n_18.png       \n",
            "  inflating: FNNPK/-N/n_19.png       \n",
            "  inflating: FNNPK/-N/n_2.png        \n",
            "  inflating: FNNPK/-N/n_20.png       \n",
            "  inflating: FNNPK/-N/n_21.png       \n",
            "  inflating: FNNPK/-N/n_22.png       \n",
            "  inflating: FNNPK/-N/n_23.png       \n",
            "  inflating: FNNPK/-N/n_24.png       \n",
            "  inflating: FNNPK/-N/n_25.png       \n",
            "  inflating: FNNPK/-N/n_26.png       \n",
            "  inflating: FNNPK/-N/n_27.png       \n",
            "  inflating: FNNPK/-N/n_28.png       \n",
            "  inflating: FNNPK/-N/n_29.png       \n",
            "  inflating: FNNPK/-N/n_3.png        \n",
            "  inflating: FNNPK/-N/n_30.png       \n",
            "  inflating: FNNPK/-N/n_31.png       \n",
            "  inflating: FNNPK/-N/n_32.png       \n",
            "  inflating: FNNPK/-N/n_33.png       \n",
            "  inflating: FNNPK/-N/n_34.png       \n",
            "  inflating: FNNPK/-N/n_35.png       \n",
            "  inflating: FNNPK/-N/n_36.png       \n",
            "  inflating: FNNPK/-N/n_37.png       \n",
            "  inflating: FNNPK/-N/n_38.png       \n",
            "  inflating: FNNPK/-N/n_39.png       \n",
            "  inflating: FNNPK/-N/n_4.png        \n",
            "  inflating: FNNPK/-N/n_40.png       \n",
            "  inflating: FNNPK/-N/n_41.png       \n",
            "  inflating: FNNPK/-N/n_42.png       \n",
            "  inflating: FNNPK/-N/n_43.png       \n",
            "  inflating: FNNPK/-N/n_44.png       \n",
            "  inflating: FNNPK/-N/n_45.png       \n",
            "  inflating: FNNPK/-N/n_46.png       \n",
            "  inflating: FNNPK/-N/n_47.png       \n",
            "  inflating: FNNPK/-N/n_48.png       \n",
            "  inflating: FNNPK/-N/n_49.png       \n",
            "  inflating: FNNPK/-N/n_5.png        \n",
            "  inflating: FNNPK/-N/n_50.png       \n",
            "  inflating: FNNPK/-N/n_51.png       \n",
            "  inflating: FNNPK/-N/n_52.png       \n",
            "  inflating: FNNPK/-N/n_53.png       \n",
            "  inflating: FNNPK/-N/n_54.png       \n",
            "  inflating: FNNPK/-N/n_55.png       \n",
            "  inflating: FNNPK/-N/n_56.png       \n",
            "  inflating: FNNPK/-N/n_57.png       \n",
            "  inflating: FNNPK/-N/n_58.png       \n",
            "  inflating: FNNPK/-N/n_59.png       \n",
            "  inflating: FNNPK/-N/n_7.png        \n",
            "  inflating: FNNPK/-N/n_8.png        \n",
            "  inflating: FNNPK/-N/n_9.png        \n",
            "  inflating: FNNPK/-P/p1.png         \n",
            "  inflating: FNNPK/-P/p10.png        \n",
            "  inflating: FNNPK/-P/p11.png        \n",
            "  inflating: FNNPK/-P/p12.png        \n",
            "  inflating: FNNPK/-P/p13.png        \n",
            "  inflating: FNNPK/-P/p14.png        \n",
            "  inflating: FNNPK/-P/p15.png        \n",
            "  inflating: FNNPK/-P/p16.png        \n",
            "  inflating: FNNPK/-P/p17.png        \n",
            "  inflating: FNNPK/-P/p18.png        \n",
            "  inflating: FNNPK/-P/p19.png        \n",
            "  inflating: FNNPK/-P/p2.png         \n",
            "  inflating: FNNPK/-P/p20.png        \n",
            "  inflating: FNNPK/-P/p21.png        \n",
            "  inflating: FNNPK/-P/p22.png        \n",
            "  inflating: FNNPK/-P/p23.png        \n",
            "  inflating: FNNPK/-P/p24.png        \n",
            "  inflating: FNNPK/-P/p25.png        \n",
            "  inflating: FNNPK/-P/p26.png        \n",
            "  inflating: FNNPK/-P/p27.png        \n",
            "  inflating: FNNPK/-P/p28.png        \n",
            "  inflating: FNNPK/-P/p29.png        \n",
            "  inflating: FNNPK/-P/p3.png         \n",
            "  inflating: FNNPK/-P/p30.png        \n",
            "  inflating: FNNPK/-P/p31.png        \n",
            "  inflating: FNNPK/-P/p32.png        \n",
            "  inflating: FNNPK/-P/p33.png        \n",
            "  inflating: FNNPK/-P/p34.png        \n",
            "  inflating: FNNPK/-P/p35.png        \n",
            "  inflating: FNNPK/-P/p36.png        \n",
            "  inflating: FNNPK/-P/p37.png        \n",
            "  inflating: FNNPK/-P/p38.png        \n",
            "  inflating: FNNPK/-P/p39.png        \n",
            "  inflating: FNNPK/-P/p4.png         \n",
            "  inflating: FNNPK/-P/p40.png        \n",
            "  inflating: FNNPK/-P/p43.png        \n",
            "  inflating: FNNPK/-P/p44.png        \n",
            "  inflating: FNNPK/-P/p45.png        \n",
            "  inflating: FNNPK/-P/p46.png        \n",
            "  inflating: FNNPK/-P/p47.png        \n",
            "  inflating: FNNPK/-P/p48.png        \n",
            "  inflating: FNNPK/-P/p49.png        \n",
            "  inflating: FNNPK/-P/p5.png         \n",
            "  inflating: FNNPK/-P/p50.png        \n",
            "  inflating: FNNPK/-P/p51.png        \n",
            "  inflating: FNNPK/-P/p52.png        \n",
            "  inflating: FNNPK/-P/p53.png        \n",
            "  inflating: FNNPK/-P/p54.png        \n",
            "  inflating: FNNPK/-P/p55.png        \n",
            "  inflating: FNNPK/-P/p56.png        \n",
            "  inflating: FNNPK/-P/p57.png        \n",
            "  inflating: FNNPK/-P/p58.png        \n",
            "  inflating: FNNPK/-P/p59.png        \n",
            "  inflating: FNNPK/-P/p6.png         \n",
            "  inflating: FNNPK/-P/p60.png        \n",
            "  inflating: FNNPK/-P/p61.png        \n",
            "  inflating: FNNPK/-P/p62.png        \n",
            "  inflating: FNNPK/-P/p63.png        \n",
            "  inflating: FNNPK/-P/p64.png        \n",
            "  inflating: FNNPK/-P/p65.png        \n",
            "  inflating: FNNPK/-P/p66.png        \n",
            "  inflating: FNNPK/-P/p67.png        \n",
            "  inflating: FNNPK/-P/p68.png        \n",
            "  inflating: FNNPK/-P/p7.png         \n",
            "  inflating: FNNPK/-P/p8.png         \n",
            "  inflating: FNNPK/-P/p9.png         \n",
            "  inflating: FNNPK/FN/fn1.png        \n",
            "  inflating: FNNPK/FN/fn10.png       \n",
            "  inflating: FNNPK/FN/fn11.png       \n",
            "  inflating: FNNPK/FN/fn12.png       \n",
            "  inflating: FNNPK/FN/fn2.png        \n",
            "  inflating: FNNPK/FN/fn3.png        \n",
            "  inflating: FNNPK/FN/fn4.png        \n",
            "  inflating: FNNPK/FN/fn5.png        \n",
            "  inflating: FNNPK/FN/fn6.png        \n",
            "  inflating: FNNPK/FN/fn7.png        \n",
            "  inflating: FNNPK/FN/fn8.png        \n",
            "  inflating: FNNPK/FN/fn9.png        \n"
          ]
        }
      ]
    },
    {
      "cell_type": "code",
      "source": [
        "import tensorflow as tf\n",
        "from tensorflow.keras.preprocessing.image import ImageDataGenerator\n",
        "from tensorflow.keras.models import Sequential\n",
        "from tensorflow.keras.layers import Dense, Conv2D, MaxPooling2D, GlobalMaxPooling2D,Flatten, Dropout\n",
        "from tensorflow.keras.callbacks import ModelCheckpoint\n",
        "import os\n",
        "import numpy as np\n",
        "import numpy as np\n",
        "import matplotlib.pyplot as plt\n",
        "%matplotlib inline\n",
        "import tensorflow as tf\n",
        "import pandas as pd\n",
        "import os, requests, cv2, random\n",
        "from tensorflow.keras.models import Sequential\n",
        "from tensorflow.keras.layers import Conv2D, MaxPooling2D, Flatten, Dense\n",
        "from tensorflow.keras.callbacks import EarlyStopping\n",
        "from tensorflow.keras.optimizers import Adam\n",
        "from tensorflow.keras import models\n",
        "from tensorflow.keras import Sequential, layers\n",
        "from keras.preprocessing.image import ImageDataGenerator\n",
        "from tensorflow import keras\n",
        "from sklearn.metrics import confusion_matrix,classification_report"
      ],
      "metadata": {
        "id": "47fuZ5m9vFa5"
      },
      "execution_count": null,
      "outputs": []
    },
    {
      "cell_type": "code",
      "source": [
        "import os\n",
        "from keras.preprocessing.image import ImageDataGenerator, array_to_img, img_to_array, load_img\n",
        "\n",
        "# Set the paths for input and output folders\n",
        "input_folder = '/content/FNNPK'\n",
        "output_folder = '/content/drive/MyDrive/Lettuce_augmented'\n",
        "\n",
        "# Create the output folder if it doesn't exist\n",
        "if not os.path.exists(output_folder):\n",
        "    os.makedirs(output_folder)\n",
        "\n",
        "# Create an ImageDataGenerator with your desired augmentation settings\n",
        "datagen = ImageDataGenerator(\n",
        "    rotation_range=40,\n",
        "    width_shift_range=0.2,\n",
        "    height_shift_range=0.2,\n",
        "    shear_range=0.2,\n",
        "    zoom_range=0.2,\n",
        "    horizontal_flip=True,\n",
        "    fill_mode='nearest'\n",
        ")\n",
        "\n",
        "# Loop through each subfolder in the input folder\n",
        "for subfolder in os.listdir(input_folder):\n",
        "    subfolder_path = os.path.join(input_folder, subfolder)\n",
        "\n",
        "    if os.path.isdir(subfolder_path):\n",
        "        # Create corresponding output subfolder if it doesn't exist\n",
        "        output_subfolder = os.path.join(output_folder, subfolder)\n",
        "        if not os.path.exists(output_subfolder):\n",
        "            os.makedirs(output_subfolder)\n",
        "\n",
        "        # Loop through each image in the subfolder and apply augmentation\n",
        "        for filename in os.listdir(subfolder_path):\n",
        "            if filename.endswith(('.jpg', '.jpeg', '.png')):  # Assuming your images are in these formats\n",
        "                img = load_img(os.path.join(subfolder_path, filename))\n",
        "                x = img_to_array(img)\n",
        "                x = x.reshape((1,) + x.shape)\n",
        "\n",
        "                # Generate augmented images and save to the output subfolder\n",
        "                i = 0\n",
        "                for batch in datagen.flow(x, batch_size=1, save_to_dir=output_subfolder,\n",
        "                                          save_prefix=os.path.splitext(filename)[0], save_format='jpeg'):\n",
        "                    i += 1\n",
        "                    if i > 30:\n",
        "                        break  # limit the number of augmented images per original image\n",
        "\n",
        "print(\"Data augmentation complete.\")\n"
      ],
      "metadata": {
        "colab": {
          "base_uri": "https://localhost:8080/"
        },
        "id": "Bc04ehwo599Z",
        "outputId": "883cc3fa-bcaf-4cc2-b96c-6874c06f8be0"
      },
      "execution_count": null,
      "outputs": [
        {
          "output_type": "stream",
          "name": "stdout",
          "text": [
            "Data augmentation complete.\n"
          ]
        }
      ]
    },
    {
      "cell_type": "code",
      "source": [
        "pip install split-folders[full]"
      ],
      "metadata": {
        "colab": {
          "base_uri": "https://localhost:8080/"
        },
        "id": "5H95eUN3vQmZ",
        "outputId": "983e364c-c8cd-4155-d6cb-23e414816502"
      },
      "execution_count": null,
      "outputs": [
        {
          "output_type": "stream",
          "name": "stdout",
          "text": [
            "Collecting split-folders[full]\n",
            "  Downloading split_folders-0.5.1-py3-none-any.whl (8.4 kB)\n",
            "Requirement already satisfied: tqdm in /usr/local/lib/python3.10/dist-packages (from split-folders[full]) (4.66.1)\n",
            "Installing collected packages: split-folders\n",
            "Successfully installed split-folders-0.5.1\n"
          ]
        }
      ]
    },
    {
      "cell_type": "code",
      "source": [
        "import splitfolders\n",
        "input_folder='/content/drive/MyDrive/Lettuce_augmented'\n",
        "splitfolders.ratio(input_folder, output=\"/content/drive/MyDrive/lettuceData\",\n",
        "    seed=42, ratio=(.7,.2,.1), group_prefix=None, move=False)"
      ],
      "metadata": {
        "colab": {
          "base_uri": "https://localhost:8080/"
        },
        "id": "-JMiw9R6vTao",
        "outputId": "ccdb6e6d-1858-4e81-b068-d01cc49cee1c"
      },
      "execution_count": null,
      "outputs": [
        {
          "output_type": "stream",
          "name": "stderr",
          "text": [
            "Copying files: 6438 files [01:06, 96.52 files/s] \n"
          ]
        }
      ]
    },
    {
      "cell_type": "code",
      "source": [
        "train_datasets = \"/content/drive/MyDrive/lettuceData/train\"\n",
        "validation_datasets = \"/content/drive/MyDrive/lettuceData/val\"\n",
        "test_datasets = \"/content/drive/MyDrive/lettuceData/test\""
      ],
      "metadata": {
        "id": "c36yCGMkw60N"
      },
      "execution_count": null,
      "outputs": []
    },
    {
      "cell_type": "code",
      "source": [
        "batch_size = 64\n",
        "image_size =[ 224,224]"
      ],
      "metadata": {
        "id": "VY-8PGjlxHL8"
      },
      "execution_count": null,
      "outputs": []
    },
    {
      "cell_type": "code",
      "source": [
        "def prepare_the_datasets(train_datasets, validation_datasets, batch_size, image_size):\n",
        "    train_datasets_generator = ImageDataGenerator(rescale=1./255,\n",
        "                                                  shear_range = 0.2,\n",
        "                                                  zoom_range = 0.2,\n",
        "                                                  horizontal_flip = True,\n",
        "                                                  vertical_flip=True,\n",
        "                                                  brightness_range=[0.1, 1.5],\n",
        "                                                  fill_mode = \"nearest\")\n",
        "\n",
        "\n",
        "    validation_datasets_generator = ImageDataGenerator(rescale=1./255,\n",
        "                                                  shear_range = 0.2,\n",
        "                                                  zoom_range = 0.2,\n",
        "                                                  horizontal_flip = True,\n",
        "                                                  vertical_flip=True,\n",
        "                                                  brightness_range=[0.1, 1.5],\n",
        "                                                  fill_mode = \"nearest\")\n",
        "\n",
        "\n",
        "    train_datasets_generator_data = train_datasets_generator.flow_from_directory(\n",
        "        batch_size = 64,\n",
        "        directory = train_datasets,\n",
        "        shuffle = True,\n",
        "        target_size = [224,224],\n",
        "        class_mode = \"categorical\"\n",
        "    )\n",
        "\n",
        "    validation_datasets_generator_data = validation_datasets_generator.flow_from_directory(\n",
        "        batch_size = 64,\n",
        "        directory = validation_datasets,\n",
        "        shuffle = True,\n",
        "        target_size = [224,224],\n",
        "        class_mode = \"categorical\"\n",
        "    )\n",
        "\n",
        "\n",
        "    return train_datasets_generator_data, validation_datasets_generator_data\n"
      ],
      "metadata": {
        "id": "JkCTjG8_xKPm"
      },
      "execution_count": null,
      "outputs": []
    },
    {
      "cell_type": "code",
      "source": [
        "train_data , validation_data = prepare_the_datasets(train_datasets, validation_datasets,batch_size = 64 ,image_size =[ 224,224])"
      ],
      "metadata": {
        "colab": {
          "base_uri": "https://localhost:8080/"
        },
        "id": "Ven4oqBZ3ImE",
        "outputId": "e6cc5878-e7e8-4a23-ecf5-96529de0333a"
      },
      "execution_count": null,
      "outputs": [
        {
          "output_type": "stream",
          "name": "stdout",
          "text": [
            "Found 4505 images belonging to 4 classes.\n",
            "Found 1287 images belonging to 4 classes.\n"
          ]
        }
      ]
    },
    {
      "cell_type": "markdown",
      "source": [],
      "metadata": {
        "id": "wNyqCMwQemqw"
      }
    },
    {
      "cell_type": "markdown",
      "source": [
        "vgg\n"
      ],
      "metadata": {
        "id": "YoEdBH_oyy8g"
      }
    },
    {
      "cell_type": "code",
      "source": [
        "from keras.applications.vgg19 import VGG19\n",
        "from sklearn.model_selection import KFold, ShuffleSplit\n",
        "from tensorflow.keras.callbacks import EarlyStopping\n",
        "import tensorflow as tf"
      ],
      "metadata": {
        "id": "L1cXc-GzxwuS"
      },
      "execution_count": null,
      "outputs": []
    },
    {
      "cell_type": "code",
      "source": [
        "model2 = tf.keras.models.Sequential([\n",
        "tf.keras.layers.Conv2D(32,(3,3),strides=(1, 1),activation='relu',padding='same', input_shape=(224, 224, 3)),\n",
        "tf.keras.layers.MaxPooling2D(pool_size=(2,2)),\n",
        "\n",
        "tf.keras.layers.Conv2D(64,(3,3),strides=(1, 1) ,padding='same',activation='relu'),\n",
        "tf.keras.layers.MaxPooling2D(pool_size=(2,2)),\n",
        "\n",
        "tf.keras.layers.Conv2D(128,(3,3),strides=(1, 1),padding='same', activation='relu'),\n",
        "tf.keras.layers.MaxPooling2D(pool_size=(2,2)),\n",
        "\n",
        "tf.keras.layers.Conv2D(256,(3,3),strides=(1, 1),padding='same', activation='relu'),\n",
        "tf.keras.layers.MaxPooling2D(pool_size=(2,2)),\n",
        "\n",
        "\n",
        "tf.keras.layers.Flatten(),\n",
        "\n",
        "tf.keras.layers.Dense(128, activation='relu'),\n",
        "tf.keras.layers.Dense(64, activation='relu'),\n",
        "tf.keras.layers.Dense(4, activation='softmax'),\n",
        "    ])\n"
      ],
      "metadata": {
        "id": "2xvdgqDyy5lk"
      },
      "execution_count": null,
      "outputs": []
    },
    {
      "cell_type": "code",
      "source": [
        "model2.summary()"
      ],
      "metadata": {
        "colab": {
          "base_uri": "https://localhost:8080/"
        },
        "id": "lY4hd-s9z-1J",
        "outputId": "39a245d2-78d2-454d-83b3-f33e96bcc79b"
      },
      "execution_count": null,
      "outputs": [
        {
          "output_type": "stream",
          "name": "stdout",
          "text": [
            "Model: \"sequential\"\n",
            "_________________________________________________________________\n",
            " Layer (type)                Output Shape              Param #   \n",
            "=================================================================\n",
            " conv2d (Conv2D)             (None, 224, 224, 32)      896       \n",
            "                                                                 \n",
            " max_pooling2d (MaxPooling2  (None, 112, 112, 32)      0         \n",
            " D)                                                              \n",
            "                                                                 \n",
            " conv2d_1 (Conv2D)           (None, 112, 112, 64)      18496     \n",
            "                                                                 \n",
            " max_pooling2d_1 (MaxPoolin  (None, 56, 56, 64)        0         \n",
            " g2D)                                                            \n",
            "                                                                 \n",
            " conv2d_2 (Conv2D)           (None, 56, 56, 128)       73856     \n",
            "                                                                 \n",
            " max_pooling2d_2 (MaxPoolin  (None, 28, 28, 128)       0         \n",
            " g2D)                                                            \n",
            "                                                                 \n",
            " conv2d_3 (Conv2D)           (None, 28, 28, 256)       295168    \n",
            "                                                                 \n",
            " max_pooling2d_3 (MaxPoolin  (None, 14, 14, 256)       0         \n",
            " g2D)                                                            \n",
            "                                                                 \n",
            " flatten (Flatten)           (None, 50176)             0         \n",
            "                                                                 \n",
            " dense (Dense)               (None, 128)               6422656   \n",
            "                                                                 \n",
            " dense_1 (Dense)             (None, 64)                8256      \n",
            "                                                                 \n",
            " dense_2 (Dense)             (None, 4)                 260       \n",
            "                                                                 \n",
            "=================================================================\n",
            "Total params: 6819588 (26.01 MB)\n",
            "Trainable params: 6819588 (26.01 MB)\n",
            "Non-trainable params: 0 (0.00 Byte)\n",
            "_________________________________________________________________\n"
          ]
        }
      ]
    },
    {
      "cell_type": "code",
      "source": [
        "opt = keras.optimizers.Adam(learning_rate=0.001)"
      ],
      "metadata": {
        "id": "V9H9W5f50EXm"
      },
      "execution_count": null,
      "outputs": []
    },
    {
      "cell_type": "code",
      "source": [
        "model2.compile(optimizer = \"adam\", loss = 'binary_crossentropy', metrics = [\"accuracy\"])"
      ],
      "metadata": {
        "id": "VIU_8DzL0H7Z"
      },
      "execution_count": null,
      "outputs": []
    },
    {
      "cell_type": "code",
      "source": [
        "from tensorflow.keras.callbacks import EarlyStopping"
      ],
      "metadata": {
        "id": "9CvfoaUd0Kq3"
      },
      "execution_count": null,
      "outputs": []
    },
    {
      "cell_type": "code",
      "source": [
        "es = EarlyStopping(monitor = 'val_accuracy',\n",
        "                   mode = 'max',\n",
        "                   patience = 20,\n",
        "                   verbose = 1,\n",
        "                   restore_best_weights = True)"
      ],
      "metadata": {
        "id": "wxlEPYVr0NTu"
      },
      "execution_count": null,
      "outputs": []
    },
    {
      "cell_type": "code",
      "source": [
        "import tensorflow as tf"
      ],
      "metadata": {
        "id": "KyDjQdJf0QgP"
      },
      "execution_count": null,
      "outputs": []
    },
    {
      "cell_type": "code",
      "source": [
        "model2_fit = model2.fit(train_data,\n",
        "                    validation_data = validation_data,\n",
        "                    validation_steps = len(validation_data),\n",
        "                    steps_per_epoch = len(train_data),\n",
        "                    epochs = 15,\n",
        "                    callbacks = [es])"
      ],
      "metadata": {
        "colab": {
          "base_uri": "https://localhost:8080/"
        },
        "id": "d3qYUxay0TbS",
        "outputId": "bdb9b2fa-8250-49e2-f4f8-3dc499b44c27"
      },
      "execution_count": null,
      "outputs": [
        {
          "output_type": "stream",
          "name": "stdout",
          "text": [
            "Epoch 1/15\n",
            "71/71 [==============================] - 139s 2s/step - loss: 0.0822 - accuracy: 0.9463 - val_loss: 0.0433 - val_accuracy: 0.9782\n",
            "Epoch 2/15\n",
            "71/71 [==============================] - 126s 2s/step - loss: 0.0357 - accuracy: 0.9754 - val_loss: 0.0215 - val_accuracy: 0.9876\n",
            "Epoch 3/15\n",
            "71/71 [==============================] - 130s 2s/step - loss: 0.0221 - accuracy: 0.9851 - val_loss: 0.0690 - val_accuracy: 0.9534\n",
            "Epoch 4/15\n",
            "71/71 [==============================] - 143s 2s/step - loss: 0.0126 - accuracy: 0.9922 - val_loss: 0.0172 - val_accuracy: 0.9883\n",
            "Epoch 5/15\n",
            "71/71 [==============================] - 130s 2s/step - loss: 0.0301 - accuracy: 0.9789 - val_loss: 0.0256 - val_accuracy: 0.9821\n",
            "Epoch 6/15\n",
            "71/71 [==============================] - 129s 2s/step - loss: 0.0198 - accuracy: 0.9865 - val_loss: 0.0103 - val_accuracy: 0.9930\n",
            "Epoch 7/15\n",
            "71/71 [==============================] - 127s 2s/step - loss: 0.0233 - accuracy: 0.9818 - val_loss: 0.0131 - val_accuracy: 0.9915\n",
            "Epoch 8/15\n",
            "71/71 [==============================] - 129s 2s/step - loss: 0.0165 - accuracy: 0.9907 - val_loss: 0.0224 - val_accuracy: 0.9868\n",
            "Epoch 9/15\n",
            "71/71 [==============================] - 126s 2s/step - loss: 0.0149 - accuracy: 0.9896 - val_loss: 0.0185 - val_accuracy: 0.9876\n",
            "Epoch 10/15\n",
            "71/71 [==============================] - 130s 2s/step - loss: 0.0187 - accuracy: 0.9885 - val_loss: 0.0460 - val_accuracy: 0.9619\n",
            "Epoch 11/15\n",
            "71/71 [==============================] - 142s 2s/step - loss: 0.0100 - accuracy: 0.9933 - val_loss: 0.0340 - val_accuracy: 0.9814\n",
            "Epoch 12/15\n",
            "71/71 [==============================] - 128s 2s/step - loss: 0.0405 - accuracy: 0.9756 - val_loss: 0.0416 - val_accuracy: 0.9790\n",
            "Epoch 13/15\n",
            "71/71 [==============================] - 134s 2s/step - loss: 0.0223 - accuracy: 0.9838 - val_loss: 0.0330 - val_accuracy: 0.9759\n",
            "Epoch 14/15\n",
            "71/71 [==============================] - 141s 2s/step - loss: 0.0181 - accuracy: 0.9898 - val_loss: 0.0098 - val_accuracy: 0.9953\n",
            "Epoch 15/15\n",
            "71/71 [==============================] - 130s 2s/step - loss: 0.0116 - accuracy: 0.9920 - val_loss: 0.0088 - val_accuracy: 0.9953\n"
          ]
        }
      ]
    },
    {
      "cell_type": "code",
      "source": [
        "def plot_history(history, title='', axs=None, exp_name=\"\"):\n",
        "    if axs is not None:\n",
        "        ax1, ax2 = axs\n",
        "    else:\n",
        "        f, (ax1, ax2) = plt.subplots(1, 2, figsize=(12, 4))\n",
        "\n",
        "    if len(exp_name) > 0 and exp_name[0] != '_':\n",
        "        exp_name = '_' + exp_name\n",
        "    ax1.plot(history.history['loss'], label='train' + exp_name)\n",
        "    ax1.plot(history.history['val_loss'], label='val' + exp_name)\n",
        "    #ax1.set_ylim(-0.1, 0.1)\n",
        "    ax1.set_title('loss')\n",
        "    ax1.legend()\n",
        "\n",
        "    ax2.plot(history.history['accuracy'], label='train accuracy'  + exp_name)\n",
        "    ax2.plot(history.history['val_accuracy'], label='val accuracy'  + exp_name)\n",
        "    #ax2.set_ylim(0.9, 1.1)\n",
        "    ax2.set_title('Accuracy')\n",
        "    ax2.legend()\n",
        "    return (ax1, ax2)\n",
        "\n",
        "plot_history(model2_fit, title='', axs=None, exp_name=\"\");"
      ],
      "metadata": {
        "colab": {
          "base_uri": "https://localhost:8080/",
          "height": 373
        },
        "id": "EAv9G9WwPsl_",
        "outputId": "6dd9eefd-3834-41a9-e424-0b18546da776"
      },
      "execution_count": null,
      "outputs": [
        {
          "output_type": "display_data",
          "data": {
            "text/plain": [
              "<Figure size 1200x400 with 2 Axes>"
            ],
            "image/png": "[encoded data removed]"
          },
          "metadata": {}
        }
      ]
    },
    {
      "cell_type": "code",
      "source": [
        "# CNN model layers\n",
        "\n",
        "cnn = models.Sequential()\n",
        "\n",
        "cnn.add(layers.Conv2D (32, kernel_size = (3,3), activation='relu', input_shape = [224, 224,3])),\n",
        "cnn.add(layers.MaxPooling2D(pool_size = (2, 2))),\n",
        "\n",
        "cnn.add(layers.Conv2D(64, (3,3), activation='relu')),\n",
        "cnn.add(layers. MaxPooling2D((2, 2))),\n",
        "\n",
        "cnn.add(layers.Conv2D (64, (3,3), activation='relu')),\n",
        "cnn.add(layers.MaxPooling2D((2, 2))),\n",
        "\n",
        "cnn.add(layers.Conv2D(64, (3, 3), activation='relu')),\n",
        "cnn.add(layers.MaxPooling2D((2, 2))),\n",
        "\n",
        "cnn.add(layers. Conv2D (64, (3, 3), activation='relu')),\n",
        "cnn.add(layers.MaxPooling2D((2, 2))),\n",
        "\n",
        "cnn.add(layers.Conv2D(64, (3, 3), activation='relu')),\n",
        "cnn.add(layers.MaxPooling2D((2, 2))),\n",
        "\n",
        "cnn.add(layers.Flatten()),\n",
        "\n",
        "cnn.add(layers.Dense(64,activation='relu'))\n",
        "#output layer\n",
        "cnn.add(layers.Dense(4, activation='softmax'))\n",
        "\n"
      ],
      "metadata": {
        "id": "7rM_gtLpRb32"
      },
      "execution_count": null,
      "outputs": []
    },
    {
      "cell_type": "code",
      "source": [
        "cnn.summary()"
      ],
      "metadata": {
        "id": "3VLqmZp8SMP9"
      },
      "execution_count": null,
      "outputs": []
    },
    {
      "cell_type": "code",
      "source": [
        "from tensorflow import keras"
      ],
      "metadata": {
        "id": "N4H-XuwYaKI2"
      },
      "execution_count": null,
      "outputs": []
    },
    {
      "cell_type": "code",
      "source": [
        "opt = keras.optimizers.Adam(learning_rate=0.001)"
      ],
      "metadata": {
        "id": "qq0MOP0RaOna"
      },
      "execution_count": null,
      "outputs": []
    },
    {
      "cell_type": "code",
      "source": [
        "cnn.compile(optimizer=opt,loss='categorical_crossentropy',metrics=['accuracy'])"
      ],
      "metadata": {
        "id": "o3Ugs6RkaPsa"
      },
      "execution_count": null,
      "outputs": []
    },
    {
      "cell_type": "code",
      "source": [
        "es = EarlyStopping(monitor = 'val_accuracy',\n",
        "                   mode = 'max',\n",
        "                   patience = 20,\n",
        "                   verbose = 1,\n",
        "                   restore_best_weights = True)"
      ],
      "metadata": {
        "id": "OmyG9X7XaXCj"
      },
      "execution_count": null,
      "outputs": []
    },
    {
      "cell_type": "code",
      "source": [
        "history = cnn.fit(\n",
        "    x=train_data,\n",
        "    epochs=15,\n",
        "    validation_data=validation_data,\n",
        ")\n"
      ],
      "metadata": {
        "colab": {
          "base_uri": "https://localhost:8080/"
        },
        "id": "pznoX486aYLH",
        "outputId": "1bd398c5-44a7-48ad-b599-594886118dee"
      },
      "execution_count": null,
      "outputs": [
        {
          "output_type": "stream",
          "name": "stdout",
          "text": [
            "Epoch 1/15\n",
            "71/71 [==============================] - 148s 2s/step - loss: 0.9065 - accuracy: 0.5407 - val_loss: 0.7096 - val_accuracy: 0.6830\n",
            "Epoch 2/15\n",
            "71/71 [==============================] - 134s 2s/step - loss: 0.5529 - accuracy: 0.7616 - val_loss: 0.4806 - val_accuracy: 0.8011\n",
            "Epoch 3/15\n",
            "71/71 [==============================] - 139s 2s/step - loss: 0.4637 - accuracy: 0.8149 - val_loss: 0.3791 - val_accuracy: 0.8601\n",
            "Epoch 4/15\n",
            "71/71 [==============================] - 131s 2s/step - loss: 0.4284 - accuracy: 0.8342 - val_loss: 0.3489 - val_accuracy: 0.8469\n",
            "Epoch 5/15\n",
            "71/71 [==============================] - 127s 2s/step - loss: 0.3349 - accuracy: 0.8772 - val_loss: 0.2238 - val_accuracy: 0.9200\n",
            "Epoch 6/15\n",
            "71/71 [==============================] - 130s 2s/step - loss: 0.2694 - accuracy: 0.9034 - val_loss: 0.2318 - val_accuracy: 0.9145\n",
            "Epoch 7/15\n",
            "71/71 [==============================] - 131s 2s/step - loss: 0.2747 - accuracy: 0.9006 - val_loss: 0.2323 - val_accuracy: 0.9106\n",
            "Epoch 8/15\n",
            "71/71 [==============================] - 130s 2s/step - loss: 0.2123 - accuracy: 0.9287 - val_loss: 0.1725 - val_accuracy: 0.9409\n",
            "Epoch 9/15\n",
            "71/71 [==============================] - 128s 2s/step - loss: 0.1648 - accuracy: 0.9425 - val_loss: 0.3375 - val_accuracy: 0.8749\n",
            "Epoch 10/15\n",
            "71/71 [==============================] - 125s 2s/step - loss: 0.1732 - accuracy: 0.9356 - val_loss: 0.1538 - val_accuracy: 0.9495\n",
            "Epoch 11/15\n",
            "71/71 [==============================] - 126s 2s/step - loss: 0.1509 - accuracy: 0.9456 - val_loss: 0.1922 - val_accuracy: 0.9324\n",
            "Epoch 12/15\n",
            "71/71 [==============================] - 124s 2s/step - loss: 0.1233 - accuracy: 0.9560 - val_loss: 0.1175 - val_accuracy: 0.9627\n",
            "Epoch 13/15\n",
            "71/71 [==============================] - 126s 2s/step - loss: 0.1595 - accuracy: 0.9452 - val_loss: 0.3185 - val_accuracy: 0.8990\n",
            "Epoch 14/15\n",
            "71/71 [==============================] - 125s 2s/step - loss: 0.1350 - accuracy: 0.9527 - val_loss: 0.0976 - val_accuracy: 0.9697\n",
            "Epoch 15/15\n",
            "71/71 [==============================] - 128s 2s/step - loss: 0.1101 - accuracy: 0.9638 - val_loss: 0.1304 - val_accuracy: 0.9526\n"
          ]
        }
      ]
    },
    {
      "cell_type": "code",
      "source": [
        "def plot_history(history, title='', axs=None, exp_name=\"\"):\n",
        "    if axs is not None:\n",
        "        ax1, ax2 = axs\n",
        "    else:\n",
        "        f, (ax1, ax2) = plt.subplots(1, 2, figsize=(12, 4))\n",
        "\n",
        "    if len(exp_name) > 0 and exp_name[0] != '_':\n",
        "        exp_name = '_' + exp_name\n",
        "    ax1.plot(history.history['loss'], label='train' + exp_name)\n",
        "    ax1.plot(history.history['val_loss'], label='val' + exp_name)\n",
        "    #ax1.set_ylim(-0.1, 0.1)\n",
        "    ax1.set_title('loss')\n",
        "    ax1.legend()\n",
        "\n",
        "    ax2.plot(history.history['accuracy'], label='train accuracy'  + exp_name)\n",
        "    ax2.plot(history.history['val_accuracy'], label='val accuracy'  + exp_name)\n",
        "    #ax2.set_ylim(0.9, 1.1)\n",
        "    ax2.set_title('Accuracy')\n",
        "    ax2.legend()\n",
        "    return (ax1, ax2)\n",
        "\n",
        "plot_history(history, title='', axs=None, exp_name=\"\");"
      ],
      "metadata": {
        "colab": {
          "base_uri": "https://localhost:8080/",
          "height": 377
        },
        "id": "_L32geNefIvU",
        "outputId": "58bd64d8-e881-4c50-86ea-01d15dae5b29"
      },
      "execution_count": null,
      "outputs": [
        {
          "output_type": "display_data",
          "data": {
            "text/plain": [
              "<Figure size 1200x400 with 2 Axes>"
            ],
            "image/png": "[encoded data removed]"
          },
          "metadata": {}
        }
      ]
    },
    {
      "cell_type": "code",
      "source": [
        "image_path = '/content/FNNPK/-N/n_1.png'\n",
        "img = cv2.imread(image_path)\n",
        "img = cv2.resize(img, (224, 224))\n",
        "img = img / 255.0\n",
        "\n",
        "img = np.expand_dims(img, axis=0)\n",
        "\n",
        "predictions = cnn.predict(img)\n",
        "\n",
        "predicted_class = np.argmax(predictions, axis=1)\n",
        "\n",
        "class_labels = list(train_data.class_indices.keys())\n",
        "\n",
        "\n",
        "predicted_class_label = class_labels[predicted_class[0]]\n",
        "\n",
        "print(\"Predicted class:\", predicted_class_label)\n"
      ],
      "metadata": {
        "colab": {
          "base_uri": "https://localhost:8080/"
        },
        "id": "H7Chm1effKIq",
        "outputId": "b18faab5-cb3c-459f-f105-b2f4e74d7abd"
      },
      "execution_count": null,
      "outputs": [
        {
          "output_type": "stream",
          "name": "stdout",
          "text": [
            "1/1 [==============================] - 0s 19ms/step\n",
            "Predicted class: -P\n"
          ]
        }
      ]
    }
  ],
  "metadata": {
    "colab": {
      "provenance": [],
      "gpuType": "T4"
    },
    "kernelspec": {
      "display_name": "Python 3",
      "name": "python3"
    },
    "language_info": {
      "name": "python"
    },
    "accelerator": "GPU"
  },
  "nbformat": 4,
  "nbformat_minor": 0
}